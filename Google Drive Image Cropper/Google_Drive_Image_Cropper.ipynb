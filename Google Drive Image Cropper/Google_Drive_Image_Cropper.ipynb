{
  "nbformat": 4,
  "nbformat_minor": 0,
  "metadata": {
    "colab": {
      "name": "Google_Drive_Image_Cropper.ipynb",
      "provenance": []
    },
    "kernelspec": {
      "name": "python3",
      "display_name": "Python 3"
    },
    "language_info": {
      "name": "python"
    }
  },
  "cells": [
    {
      "cell_type": "markdown",
      "source": [
        "# Image Cropper\n",
        "\n",
        "This notebook crops images stored in Google Drive to be 200 x 200 px for use with a GAN. The size could be changed. Its meant to be used in Google Colab."
      ],
      "metadata": {
        "id": "2tXHQxPDXuu_"
      }
    },
    {
      "cell_type": "code",
      "metadata": {
        "id": "R5TcMpH5-IdC"
      },
      "source": [
        "#mounts google drive\n",
        "#skip this cel if you want to use a local repo\n",
        "\n",
        "from google.colab import drive\n",
        "drive.mount(\"/content/gdrive\") "
      ],
      "execution_count": null,
      "outputs": []
    },
    {
      "cell_type": "code",
      "metadata": {
        "id": "aYJGsE0-5FMj"
      },
      "source": [
        "import os\n",
        "import glob\n",
        "from PIL import Image, ImageDraw, ImageFilter"
      ],
      "execution_count": null,
      "outputs": []
    },
    {
      "cell_type": "code",
      "metadata": {
        "id": "Ky79kF5UGq8Y"
      },
      "source": [
        "thumb_width = 200\n",
        "\n",
        "directory_name=\"YOUR/INPUT/DIRECTORY/HERE\"\n",
        "export_directory=\"YOUR/EXPORT/DIRECTORY/HERE\"\"\n",
        "\n",
        "#creates a smaller image\n",
        "def smaller(image):\n",
        "  new_height = 200\n",
        "  new_width  = new_height * image.width / image.height\n",
        "  return image.resize((int(new_width), new_height), Image.ANTIALIAS)\n",
        "\n",
        "\n",
        "#finds the image center\n",
        "\n",
        "def crop_center(pil_img, crop_width, crop_height):\n",
        "    img_width, img_height = pil_img.size\n",
        "    return pil_img.crop(((img_width - crop_width) // 2,\n",
        "                         (img_height - crop_height) // 2,\n",
        "                         (img_width + crop_width) // 2,\n",
        "                         (img_height + crop_height) // 2))\n",
        "    \n",
        "#crops the image\n",
        "\n",
        "count=0\n",
        "for image in os.listdir(directory_name):\n",
        "  count=count+1\n",
        "  image_name=directory_name+\"/\"+image\n",
        "  im = Image.open(image_name)\n",
        "  im_small= smaller(im)\n",
        "  im_thumb = crop_center(im_small, thumb_width, thumb_width)\n",
        "  im_out=\"image_{0:0=4d}.jpg\".format(count)\n",
        "  im_out_whole=export_directory+im_out\n",
        "  im_thumb.save(im_out_whole, quality=100)"
      ],
      "execution_count": null,
      "outputs": []
    },
    {
      "cell_type": "markdown",
      "source": [
        "Once the former cel is done you can export the whole thing as a zip file and download it off Colab"
      ],
      "metadata": {
        "id": "FdTpeQzBZ-Nk"
      }
    },
    {
      "cell_type": "code",
      "metadata": {
        "id": "0rYZXLjLMFIc"
      },
      "source": [
        "#zips the whole thing for download\n",
        "\n",
        "import shutil\n",
        "shutil.make_archive(\"cropped_image\", 'zip', export_directory)"
      ],
      "execution_count": null,
      "outputs": []
    }
  ]
}